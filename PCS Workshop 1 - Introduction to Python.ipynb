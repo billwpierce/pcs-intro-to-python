{
 "cells": [
  {
   "cell_type": "markdown",
   "id": "07d1a2db",
   "metadata": {},
   "source": [
    "# PCS Workshop 1: Introduction to Python\n",
    "\n",
    "*By Billy Pierce*\n",
    "\n",
    "Hi! This workshop will be an introduction to Python for people with zero coding experience. That said, for those of you with coding experience, we've included a little challenge at the bottom of this document that you can focus on while other people learn.\n",
    "\n",
    "For more information about my thought process and pedagogy when developing this notebook/workshop, please reference Appendix B."
   ]
  },
  {
   "cell_type": "markdown",
   "id": "f39c19d0",
   "metadata": {},
   "source": [
    "## Section 1: Variables, Types, and Expressions\n",
    "\n",
    "Things in software are represented through expressions. Numbers are represented through numbers, with nothing around them:"
   ]
  },
  {
   "cell_type": "code",
   "execution_count": 34,
   "id": "66b40f0d",
   "metadata": {},
   "outputs": [
    {
     "data": {
      "text/plain": [
       "42"
      ]
     },
     "execution_count": 34,
     "metadata": {},
     "output_type": "execute_result"
    }
   ],
   "source": [
    "42"
   ]
  },
  {
   "cell_type": "markdown",
   "id": "eebfd6de",
   "metadata": {},
   "source": [
    "(Running the block above should display `Out[1]: 42`.\n",
    "\n",
    "Other common expressions are strings, which are represented by text with quotes `'` around them:"
   ]
  },
  {
   "cell_type": "code",
   "execution_count": 35,
   "id": "66735094",
   "metadata": {},
   "outputs": [
    {
     "data": {
      "text/plain": [
       "'Billy is a fantastic Bridge Officer.'"
      ]
     },
     "execution_count": 35,
     "metadata": {},
     "output_type": "execute_result"
    }
   ],
   "source": [
    "\"Billy is a fantastic Bridge Officer.\""
   ]
  },
  {
   "cell_type": "markdown",
   "id": "85f7975c",
   "metadata": {},
   "source": [
    "If this still seems mind-bogglingly simple, that's fine. Let's take it up a notch, and start manipulating these expressions.\n",
    "\n",
    "Let's start with some basic math. If you enter a standard `+-*/` mathematical expression on numbers, python will solve the equations for you:"
   ]
  },
  {
   "cell_type": "code",
   "execution_count": 36,
   "id": "547ae74e",
   "metadata": {},
   "outputs": [
    {
     "data": {
      "text/plain": [
       "7"
      ]
     },
     "execution_count": 36,
     "metadata": {},
     "output_type": "execute_result"
    }
   ],
   "source": [
    "3 + 4"
   ]
  },
  {
   "cell_type": "code",
   "execution_count": 37,
   "id": "d2720e95",
   "metadata": {},
   "outputs": [
    {
     "data": {
      "text/plain": [
       "6.0"
      ]
     },
     "execution_count": 37,
     "metadata": {},
     "output_type": "execute_result"
    }
   ],
   "source": [
    "12 / 2"
   ]
  },
  {
   "cell_type": "markdown",
   "id": "3fd46721",
   "metadata": {},
   "source": [
    "This math can further be combined!"
   ]
  },
  {
   "cell_type": "code",
   "execution_count": 38,
   "id": "64c853b4",
   "metadata": {},
   "outputs": [
    {
     "data": {
      "text/plain": [
       "42.0"
      ]
     },
     "execution_count": 38,
     "metadata": {},
     "output_type": "execute_result"
    }
   ],
   "source": [
    "(3+4) * (12/2)"
   ]
  },
  {
   "cell_type": "markdown",
   "id": "0f39e89e",
   "metadata": {},
   "source": [
    "### 1.B: Variables\n",
    "\n",
    "In the cells above, you may have noticed that we had to repeatedly calculate the same expressions — `3 + 4` and `12 / 2` — when combining expressions. While this is fine when evaluating only a couple of expressions, repeating this computation can get costly when repeated at scale.\n",
    "\n",
    "As a result, Python has what are called variables. Python variables take the form of `left side = right side`, where the expression on the right side is set to the variable on the left side. Let's look at an example:"
   ]
  },
  {
   "cell_type": "code",
   "execution_count": 39,
   "id": "ebf88953",
   "metadata": {},
   "outputs": [],
   "source": [
    "variable_one = 3 + 4\n",
    "variable_two = 12 / 2"
   ]
  },
  {
   "cell_type": "markdown",
   "id": "3a765a30",
   "metadata": {},
   "source": [
    "Here, we see that we are declaring two variables — aptly named `variable_one` and `variable_two` — which are then stored in the program as values that we can reference in the future. Variables can be referenced just like the numbers and expressions that defined them, as we show below:"
   ]
  },
  {
   "cell_type": "code",
   "execution_count": 40,
   "id": "f9b21c2f",
   "metadata": {},
   "outputs": [
    {
     "name": "stdout",
     "output_type": "stream",
     "text": [
      "42.0\n"
     ]
    }
   ],
   "source": [
    "variable_three = variable_one * variable_two\n",
    "print(variable_three)"
   ]
  },
  {
   "cell_type": "markdown",
   "id": "12e906ee",
   "metadata": {},
   "source": [
    "Here, we see a new variable, `variable_three`, being set to the product of `variable_one` and `variable_two`. This is the same as the equation `(3+4) * (12/2)`, only this time we saved our variables intermediately."
   ]
  },
  {
   "cell_type": "markdown",
   "id": "e493d742",
   "metadata": {},
   "source": [
    "### 1.C: Going (a little bit) under the hood\n",
    "Let's talk about language. You may have noticed how above, we referred to `42`, `'Hello'`, and `6 * 7`, all as expressions. How can this be?\n",
    "\n",
    "Simply put, expressions in python are a combination of functions, values, and statements that produce some specific value. While this might be obvious for something like `42`, `6 * 7` is also a expression because the product\n",
    "evaluates the expression automatically, so `6 * 7` evaluates to `42`.\n",
    "\n",
    "#### Print Statements\n",
    "You may have also noticed the `print` function in the most recent block. Print takes an expression as an argument, and it displays the value of that expression. Don't worry too much about it — we'll talk more about functions later."
   ]
  },
  {
   "cell_type": "markdown",
   "id": "1db8d242",
   "metadata": {},
   "source": [
    "### Types\n",
    "Let's talk about types! So far, you've seen two types: Strings and Numbers (technically there's a difference between floats and integers, but we won't worry about that difference here).\n",
    "\n",
    "Types are the different, well, \"types\" of data we want to access. While python is fairly forgiving when it comes to typing (unlike other languages, where types must be specified for individual variables), it's worth noting that we have to be careful when combining types. For example, let's see what happens when we try to add two strings, and when we try to add a string and a number:"
   ]
  },
  {
   "cell_type": "code",
   "execution_count": 41,
   "id": "f913d56a",
   "metadata": {},
   "outputs": [
    {
     "data": {
      "text/plain": [
       "'Hello world!'"
      ]
     },
     "execution_count": 41,
     "metadata": {},
     "output_type": "execute_result"
    }
   ],
   "source": [
    "\"Hello\" + \" world!\""
   ]
  },
  {
   "cell_type": "code",
   "execution_count": 42,
   "id": "d924e751",
   "metadata": {},
   "outputs": [
    {
     "ename": "TypeError",
     "evalue": "can only concatenate str (not \"int\") to str",
     "output_type": "error",
     "traceback": [
      "\u001b[0;31m---------------------------------------------------------------------------\u001b[0m",
      "\u001b[0;31mTypeError\u001b[0m                                 Traceback (most recent call last)",
      "Input \u001b[0;32mIn [42]\u001b[0m, in \u001b[0;36m<module>\u001b[0;34m\u001b[0m\n\u001b[0;32m----> 1\u001b[0m \u001b[38;5;124;43m\"\u001b[39;49m\u001b[38;5;124;43mHello\u001b[39;49m\u001b[38;5;124;43m\"\u001b[39;49m\u001b[43m \u001b[49m\u001b[38;5;241;43m+\u001b[39;49m\u001b[43m \u001b[49m\u001b[38;5;241;43m42\u001b[39;49m\n",
      "\u001b[0;31mTypeError\u001b[0m: can only concatenate str (not \"int\") to str"
     ]
    }
   ],
   "source": [
    "\"Hello\" + 42"
   ]
  },
  {
   "cell_type": "markdown",
   "id": "10aaea51",
   "metadata": {},
   "source": [
    "You may have noticed that the cell above printed out a `TypeError`. TypeErrors are a way for python to tell us that we're trying to use two things in a way not permitted by their type — in this case, python doesn't have a native way to combine strings and numbers."
   ]
  },
  {
   "cell_type": "markdown",
   "id": "af8301a6",
   "metadata": {},
   "source": [
    "### 1.D: Closing Challenge!\n",
    "\n",
    "To close off this section, let's complete a little challenge. Fill in the blanks below so that the program will display the value \"Ian Joffe is now 21!\"\n",
    "\n",
    "One small note: you'll see the function `str()` below. str is a function that takes in a number, and converts it into a string type. Don't worry about functions too much write now — we'll cover them more in the next section."
   ]
  },
  {
   "cell_type": "code",
   "execution_count": 43,
   "id": "199abb6f",
   "metadata": {},
   "outputs": [
    {
     "ename": "SyntaxError",
     "evalue": "invalid syntax (3395932057.py, line 7)",
     "output_type": "error",
     "traceback": [
      "\u001b[0;36m  Input \u001b[0;32mIn [43]\u001b[0;36m\u001b[0m\n\u001b[0;31m    full name = _____ + ______\u001b[0m\n\u001b[0m         ^\u001b[0m\n\u001b[0;31mSyntaxError\u001b[0m\u001b[0;31m:\u001b[0m invalid syntax\n"
     ]
    }
   ],
   "source": [
    "first_name = Ian\n",
    "last_name = Joffe\n",
    "previous_age = 20\n",
    "age_increase = 1\n",
    "current_age = _______ + _______\n",
    "current_age_str = str(current_age)\n",
    "full name = _____ + ______\n",
    "sentence = _______ + \" is now \" + _______ + \"!\"\n",
    "print(sentence)"
   ]
  },
  {
   "cell_type": "markdown",
   "id": "5668b529",
   "metadata": {},
   "source": [
    "## Section 2: Functions\n",
    "\n",
    "Congrats on completing the first section! Here, we'll be going over python functions. To steal a very simple definition from W3 Schools:\n",
    "\n",
    "```\n",
    "A function is a block of code which only runs when it is called.\n",
    "\n",
    "You can pass data, known as parameters, into a function.\n",
    "\n",
    "A function can return data as a result.\n",
    "```\n",
    "\n",
    "Let's give an example!"
   ]
  },
  {
   "cell_type": "code",
   "execution_count": 44,
   "id": "0a61710d",
   "metadata": {},
   "outputs": [],
   "source": [
    "def add_three_numbers(number_1, number_2, number_3):\n",
    "    return number_1 + number_2 + number_3"
   ]
  },
  {
   "cell_type": "markdown",
   "id": "832795d1",
   "metadata": {},
   "source": [
    "Breaking it down:\n",
    "- `def` is a keyword in python that says we are beginning to define a function.\n",
    "- `add_three_numbers` is the name of the function, which we'll use when calling the function in the future\n",
    "- `number_1`, `number_2`, and `number_3` are the \"parameters\" or the function. Any time `add_three_numbers` is called, three variables must be passed in, which the function then references internally using the parameter names we've assigned here.\n",
    "- `return` tells us that the function will \"return\", or evaluate to, the value of the expression to the right\n",
    "- `number_1 + number_2 + number_3` then evaluates to the sum of the three numbers passed into the function\n",
    "\n",
    "To call this function, we run `function_name(parameter_1, parameter_2, parameter_3)`. For example:"
   ]
  },
  {
   "cell_type": "code",
   "execution_count": 45,
   "id": "5863c8c3",
   "metadata": {},
   "outputs": [
    {
     "name": "stdout",
     "output_type": "stream",
     "text": [
      "6\n"
     ]
    }
   ],
   "source": [
    "print(add_three_numbers(1, 2, 3))"
   ]
  },
  {
   "cell_type": "markdown",
   "id": "deb525a0",
   "metadata": {},
   "source": [
    "It's worth noting that functions can have any number of parameters, and they can do things between the start of the function and the return statement, in what's known as the \"body\" of the function. **They also don't need to have a return statement.** Let's proceed with another example."
   ]
  },
  {
   "cell_type": "code",
   "execution_count": 46,
   "id": "c1fee33f",
   "metadata": {},
   "outputs": [
    {
     "name": "stdout",
     "output_type": "stream",
     "text": [
      "Happy birthday to Billy, who's turning 20 today!\n"
     ]
    }
   ],
   "source": [
    "def celebrate_birthday(name, age):\n",
    "    sentence = \"Happy birthday to \" + str(name) + \", who's turning \" + str(age) + \" today!\"\n",
    "    print(sentence)\n",
    "    \n",
    "celebrate_birthday(\"Billy\", 20)"
   ]
  },
  {
   "cell_type": "markdown",
   "id": "c3a5bf22",
   "metadata": {},
   "source": [
    "Similar to the challenge in 1.D, this function prints out a birthday message for a given name and age. Note how it doesn't have a return statement — if you tried to print the return of the function directly, you'd get nothing:"
   ]
  },
  {
   "cell_type": "code",
   "execution_count": 47,
   "id": "cd76628b",
   "metadata": {},
   "outputs": [
    {
     "name": "stdout",
     "output_type": "stream",
     "text": [
      "Happy birthday to Billy, who's turning 20 today!\n",
      "None\n"
     ]
    }
   ],
   "source": [
    "print(celebrate_birthday(\"Billy\", 20))"
   ]
  },
  {
   "cell_type": "markdown",
   "id": "96ef87f3",
   "metadata": {},
   "source": [
    "This is where we get a bit more into the internals of python. When `print` is called, it first evaluates the expression inside of it — in this case, `celebrate_birthday(\"Billy\", 20)`. In the process of evaluating that function, the line `print(sentence)` is called, causing the first line that we see in the cell's output. Because the function lacks a return value, however, it evaluates to `None` — python's type for nothingness — which print then receives and displays into the second line of the output.\n",
    "\n",
    "If this is confusing at first, no worries. Take a look at the example below, and try to guess what it'll print before you run it."
   ]
  },
  {
   "cell_type": "code",
   "execution_count": 48,
   "id": "2cf9aa69",
   "metadata": {},
   "outputs": [
    {
     "name": "stdout",
     "output_type": "stream",
     "text": [
      "Happy birthday to Billy, who's turning 20 today!\n",
      "None\n",
      "Happy birthday to None, who's turning 19 today!\n"
     ]
    }
   ],
   "source": [
    "celebrate_birthday(print(celebrate_birthday(\"Billy\", 20)), 19)"
   ]
  },
  {
   "cell_type": "markdown",
   "id": "b68079f2",
   "metadata": {},
   "source": [
    "## Section 3: Control Flow\n",
    "\n",
    "One of the limitations of the elements we're introduced thusfar is that they're limited to doing the same thing every time — while I won't be introducing direct inputs here, we often want code to run different things based on user input or other changing conditions! We also may want to repeat the same action, with minimal changes in each iteration. Both of these can be addressed with control flow.\n",
    "\n",
    "### 3.A: Preamble - Booleans\n",
    "\n",
    "So far we're introduced two types, numbers and strings. However, there's a third type that's needed in control flow — booleans. Boolean variables and expressions evaluate to either `True` or `False`, and can be operated on with `not`, `and`, and `or`, in that order of operations. We'll show an example in the introduction to if-else statements below.\n",
    "\n",
    "### 3.B: If-Else Statements\n",
    "In order to run different code based on a certain value, we use an if-else statement, which executes the code under `if` if the boolean expression next to the `if` keyword evaluates to True, and runs the `else` block otherwise. Below we include an example."
   ]
  },
  {
   "cell_type": "code",
   "execution_count": 49,
   "id": "d3a423b8",
   "metadata": {},
   "outputs": [
    {
     "name": "stdout",
     "output_type": "stream",
     "text": [
      "I took path A!\n"
     ]
    }
   ],
   "source": [
    "take_path_a = True\n",
    "if take_path_a:\n",
    "    print(\"I took path A!\")\n",
    "else:\n",
    "    print(\"Ah shooooot I went down the wrong direction.\")"
   ]
  },
  {
   "cell_type": "markdown",
   "id": "5930a764",
   "metadata": {},
   "source": [
    "Because the variable `take_path_a` equals True, we evaluate the code under the if expression.\n",
    "\n",
    "One more thing we can do with booleans — we can create one through comparison with a different value, using ==, >, and < expressions. An example's below."
   ]
  },
  {
   "cell_type": "code",
   "execution_count": 50,
   "id": "e9a2b81f",
   "metadata": {},
   "outputs": [
    {
     "name": "stdout",
     "output_type": "stream",
     "text": [
      "Looks like the question was 'What do you get when you multiply six by seven?'\n"
     ]
    }
   ],
   "source": [
    "answer_to_the_ultimate_question_of_life_the_universe_and_everything = 42\n",
    "\n",
    "if 6 * 7 == answer_to_the_ultimate_question_of_life_the_universe_and_everything:\n",
    "    print(\"Looks like the question was 'What do you get when you multiply six by seven?'\")\n",
    "else:\n",
    "    print(\"Better keep looking for the question!\")"
   ]
  },
  {
   "cell_type": "code",
   "execution_count": 51,
   "id": "99c97e41",
   "metadata": {},
   "outputs": [
    {
     "name": "stdout",
     "output_type": "stream",
     "text": [
      "Phew, math still works.\n"
     ]
    }
   ],
   "source": [
    "if 5 < 3:\n",
    "    print(\"Well something's changed!\")\n",
    "else:\n",
    "    print(\"Phew, math still works.\")"
   ]
  },
  {
   "cell_type": "markdown",
   "id": "36015c14",
   "metadata": {},
   "source": [
    "### 3.C: Loops\n",
    "\n",
    "The other common type of travelling through a program is by looping — repeating nearly identical sections of code for a number (either variable or set) of repetitions. There are two main types of loops we'll look at — while loops and for loops.\n",
    "\n",
    "#### For Loops\n",
    "For loops are meant for repeating a section of code a certain number of times. Don't worry about understanding how the for loop functions internally — that explanation gets into iterators, which are outside of the course of this jupyter notebook — but just know that the variable \"5\" is what changes. Example below."
   ]
  },
  {
   "cell_type": "code",
   "execution_count": 52,
   "id": "990f0fda",
   "metadata": {},
   "outputs": [
    {
     "name": "stdout",
     "output_type": "stream",
     "text": [
      "0\n",
      "1\n",
      "2\n",
      "3\n",
      "4\n"
     ]
    }
   ],
   "source": [
    "for number in range(5):\n",
    "    print(number)"
   ]
  },
  {
   "cell_type": "markdown",
   "id": "a7259c5e",
   "metadata": {},
   "source": [
    "Wait, what's this! Python seems to have started with zero!\n",
    "\n",
    "Indeed, many things in python start with zero. Section 4 will cover lists, which are zero-indexed, and are the most common form of \"a thing that start with zero\". Nevertheless, just know that starting with zero is just a quirk of how the `for ___ in range(___)` type of loop works in python.\n",
    "\n",
    "Next, we cover while loops!\n",
    "\n",
    "#### While Loops\n",
    "\n",
    "While loops are meant to execute a given block of code until a boolean statement evaluates to true. The way this works is that before running an iteration of the while loop, it checks if it's boolean statement is true. If it is, then it runs the loop, before returning to the beginning. If not, it skips the loop entirely. Example below:"
   ]
  },
  {
   "cell_type": "code",
   "execution_count": 53,
   "id": "eef20116",
   "metadata": {},
   "outputs": [
    {
     "name": "stdout",
     "output_type": "stream",
     "text": [
      "1\n",
      "2\n",
      "3\n",
      "4\n",
      "5\n"
     ]
    }
   ],
   "source": [
    "a = 0\n",
    "while a < 5:\n",
    "    a += 1\n",
    "    print(a)"
   ]
  },
  {
   "cell_type": "markdown",
   "id": "115c1a44",
   "metadata": {},
   "source": [
    "For the more mathematically inclined among you, here's a combination of many of the things we have learned so far wrapped into a demonstration of the collatz conjecture! It also introduces the modulo symbol (%) and floor divide (//), which you can learn more about from a quick google search!"
   ]
  },
  {
   "cell_type": "code",
   "execution_count": 54,
   "id": "07c35ecc",
   "metadata": {},
   "outputs": [
    {
     "name": "stdout",
     "output_type": "stream",
     "text": [
      "92\n",
      "46\n",
      "23\n",
      "70\n",
      "35\n",
      "106\n",
      "53\n",
      "160\n",
      "80\n",
      "40\n",
      "20\n",
      "10\n",
      "5\n",
      "16\n",
      "8\n",
      "4\n",
      "2\n",
      "1\n"
     ]
    }
   ],
   "source": [
    "number = 92\n",
    "print(number)\n",
    "while number != 1:\n",
    "    if number % 2 == 0:\n",
    "        number = number // 2\n",
    "    else:\n",
    "        number = 3 * number + 1\n",
    "    print(number)"
   ]
  },
  {
   "cell_type": "markdown",
   "id": "bca0aca5",
   "metadata": {},
   "source": [
    "(For those of you not previously familiar, the collatz conjecture is a theorem in mathematics that a given formula on integers will always return to 1, no matter the starting number: https://en.wikipedia.org/wiki/Collatz_conjecture.)"
   ]
  },
  {
   "cell_type": "markdown",
   "id": "04fd8782",
   "metadata": {},
   "source": [
    "### 3.D: Challenge\n",
    "\n",
    "With control flow, functions, and variables, the scope of what you're able to write increases dramatically. To illustrate this, I've included some challenges in the cells below — feel free to give them a shot!"
   ]
  },
  {
   "cell_type": "code",
   "execution_count": 55,
   "id": "c82d0f4d",
   "metadata": {},
   "outputs": [
    {
     "ename": "IndentationError",
     "evalue": "expected an indented block (2901008992.py, line 5)",
     "output_type": "error",
     "traceback": [
      "\u001b[0;36m  Input \u001b[0;32mIn [55]\u001b[0;36m\u001b[0m\n\u001b[0;31m    # YOUR CODE HERE\u001b[0m\n\u001b[0m                    ^\u001b[0m\n\u001b[0;31mIndentationError\u001b[0m\u001b[0;31m:\u001b[0m expected an indented block\n"
     ]
    }
   ],
   "source": [
    "# This is a comment in python\n",
    "# Challenge 3.1: Fill in the function max(a, b), that returns the higher value of the two.\n",
    "# Hint: you'll need one at least one if statement!\n",
    "def max(a, b):\n",
    "    # YOUR CODE HERE"
   ]
  },
  {
   "cell_type": "code",
   "execution_count": 56,
   "id": "3a59b7c1",
   "metadata": {},
   "outputs": [
    {
     "ename": "IndentationError",
     "evalue": "expected an indented block (761216411.py, line 5)",
     "output_type": "error",
     "traceback": [
      "\u001b[0;36m  Input \u001b[0;32mIn [56]\u001b[0;36m\u001b[0m\n\u001b[0;31m    def factor(n):\u001b[0m\n\u001b[0m                  ^\u001b[0m\n\u001b[0;31mIndentationError\u001b[0m\u001b[0;31m:\u001b[0m expected an indented block\n"
     ]
    }
   ],
   "source": [
    "# Challenge 3.2: Fill in the function factors(n), which returns all of the factors of a number n.\n",
    "# Hint: you'll need modulo (%), a mathematical operation which returns the remainder of dividing \n",
    "# one number by another. For example, 21 % 6 = 3\n",
    "# Another hint: You'll need at least one for loop and one if statement.\n",
    "def factor(n):"
   ]
  },
  {
   "cell_type": "markdown",
   "id": "48e19ade",
   "metadata": {},
   "source": [
    "## Section 4: Lists\n",
    "\n",
    "Next, we get to lists! Lists are a form of structured data, which (at least for our purposes) is a fancy way of saying \"it's a little more complex, and it has some rules\". Python, however, is generally pretty nice.\n",
    "\n",
    "Lists are created by wrapping items in square brackets, and seperating them with commas. An example's below:"
   ]
  },
  {
   "cell_type": "code",
   "execution_count": 57,
   "id": "9d86fba5",
   "metadata": {},
   "outputs": [
    {
     "name": "stdout",
     "output_type": "stream",
     "text": [
      "[1, 2, 3]\n"
     ]
    }
   ],
   "source": [
    "list_one = [1, 2, 3]\n",
    "print(list_one)"
   ]
  },
  {
   "cell_type": "markdown",
   "id": "823b7993",
   "metadata": {},
   "source": [
    "Lists can also be iterated through by for loops, in a slightly different syntax than you've previously seen:"
   ]
  },
  {
   "cell_type": "code",
   "execution_count": 58,
   "id": "254db32d",
   "metadata": {},
   "outputs": [
    {
     "name": "stdout",
     "output_type": "stream",
     "text": [
      "1\n",
      "2\n",
      "3\n"
     ]
    }
   ],
   "source": [
    "for item in list_one:\n",
    "    print(item)"
   ]
  },
  {
   "cell_type": "markdown",
   "id": "7c5a1f73",
   "metadata": {},
   "source": [
    "Lists can also be accessed directly, by their index — note that indices start at zero, so element 0 of this list is the number 1, whereas element 1 of this list is the number 2."
   ]
  },
  {
   "cell_type": "code",
   "execution_count": 59,
   "id": "32c32997",
   "metadata": {},
   "outputs": [
    {
     "data": {
      "text/plain": [
       "1"
      ]
     },
     "execution_count": 59,
     "metadata": {},
     "output_type": "execute_result"
    }
   ],
   "source": [
    "list_one[0]"
   ]
  },
  {
   "cell_type": "markdown",
   "id": "2e6789e0",
   "metadata": {},
   "source": [
    "Lists can be modified, primarily with append (which adds an element to the end of a list) and pop (which removes the element at a given index):"
   ]
  },
  {
   "cell_type": "code",
   "execution_count": 60,
   "id": "ee8a3591",
   "metadata": {},
   "outputs": [
    {
     "name": "stdout",
     "output_type": "stream",
     "text": [
      "[1, 2, 3, 4]\n",
      "[2, 3, 4]\n"
     ]
    }
   ],
   "source": [
    "list_one.append(4)\n",
    "print(list_one)\n",
    "removed = list_one.pop(0)\n",
    "print(list_one)"
   ]
  },
  {
   "cell_type": "markdown",
   "id": "a16c56ca",
   "metadata": {},
   "source": [
    "In this type of for loop, each item in the list is being bound to the keyword item (where it says \"for item in list_one\"), and then as we go through the for loop, we have the opportunity to do stuff with each individual element. That said, there's no reason the name has to be item:"
   ]
  },
  {
   "cell_type": "code",
   "execution_count": 61,
   "id": "631368d3",
   "metadata": {},
   "outputs": [
    {
     "name": "stdout",
     "output_type": "stream",
     "text": [
      "2\n",
      "3\n",
      "4\n"
     ]
    }
   ],
   "source": [
    "for thing_a_ma_bobber in list_one:\n",
    "    print(thing_a_ma_bobber)"
   ]
  },
  {
   "cell_type": "markdown",
   "id": "2b1d02a6",
   "metadata": {},
   "source": [
    "You can also automatically sum over and get the max of lists, as built-in python functions, among other features:"
   ]
  },
  {
   "cell_type": "code",
   "execution_count": 62,
   "id": "1301bdd6",
   "metadata": {},
   "outputs": [
    {
     "name": "stdout",
     "output_type": "stream",
     "text": [
      "9\n",
      "4\n",
      "2\n"
     ]
    }
   ],
   "source": [
    "print(sum(list_one))\n",
    "print(max(list_one))\n",
    "print(min(list_one))"
   ]
  },
  {
   "cell_type": "markdown",
   "id": "3072693f",
   "metadata": {},
   "source": [
    "And that's where I'll leave you! There's definitely more to explore with programming, and this is only really the surface. If you're interested in learning more, talk to me — I'm always happy to teach people (seriously, not a joke, I'm not judgemental and it's a blast for me to help people learn stuff)! — or take CS61a!\n",
    "\n",
    "If you want to self-teach, the logic progression of things to learn (at least in my mind) is...\n",
    "- recursion\n",
    "- iterators / generators\n",
    "- objects / object-oriented programming"
   ]
  },
  {
   "cell_type": "markdown",
   "id": "cd7a800c",
   "metadata": {},
   "source": [
    "## Section 5: Challenges\n",
    "\n",
    "This is where shit gets really fun! Below I've created and curated a series of programming challenges, ranging from super easy to super hard. For those of you who already know python, spend the time I take teaching others to see how many of these you can complete! For those who have been following along, feel free to give these a shot, and let me know if you have any questions!\n",
    "\n",
    "Note: the top of some of these functions contrain docstrings, surrounded by ''' on both sides, which are used to test your solutions! Run the cell below the function cell (after running the function cell) to test your code! (In order to be able to test, please also run the cell directly below.)"
   ]
  },
  {
   "cell_type": "code",
   "execution_count": 63,
   "id": "cd519a1c",
   "metadata": {},
   "outputs": [],
   "source": [
    "import doctest"
   ]
  },
  {
   "cell_type": "markdown",
   "id": "d4f72d3f",
   "metadata": {},
   "source": [
    "### Challenge 5.1: Median of a List\n",
    "Difficulty: Easy\n",
    "\n",
    "Fill in the function below, to take a list and return the median element!"
   ]
  },
  {
   "cell_type": "code",
   "execution_count": 64,
   "id": "ee32c28e",
   "metadata": {},
   "outputs": [],
   "source": [
    "def median(lst):\n",
    "    '''\n",
    "    >>> median([1, 2, 3])\n",
    "    2\n",
    "    >>> median([4, 5, 1, 4])\n",
    "    4\n",
    "    '''\n",
    "    # YOUR CODE HERE"
   ]
  },
  {
   "cell_type": "code",
   "execution_count": 65,
   "id": "0b6e728b",
   "metadata": {},
   "outputs": [
    {
     "name": "stdout",
     "output_type": "stream",
     "text": [
      "**********************************************************************\n",
      "File \"__main__\", line 3, in NoName\n",
      "Failed example:\n",
      "    median([1, 2, 3])\n",
      "Expected:\n",
      "    2\n",
      "Got nothing\n",
      "**********************************************************************\n",
      "File \"__main__\", line 5, in NoName\n",
      "Failed example:\n",
      "    median([4, 5, 1, 4])\n",
      "Expected:\n",
      "    4\n",
      "Got nothing\n"
     ]
    }
   ],
   "source": [
    "# Test:\n",
    "doctest.run_docstring_examples(median, globals())"
   ]
  },
  {
   "cell_type": "markdown",
   "id": "d6662cfb",
   "metadata": {},
   "source": [
    "### Challenge 5.2: Two-Sum\n",
    "\n",
    "Difficulty: Medium-Hard\n",
    "\n",
    "Source: https://leetcode.com/problems/two-sum/\n",
    "\n",
    "```Given an array of integers nums and an integer target, return indices of the two numbers such that they add up to target.\n",
    "\n",
    "You may assume that each input would have exactly one solution, and you may not use the same element twice.```"
   ]
  },
  {
   "cell_type": "code",
   "execution_count": 66,
   "id": "a37ec4c5",
   "metadata": {},
   "outputs": [],
   "source": [
    "def two_sum(nums, target):\n",
    "    '''\n",
    "    >>> two_sum([2, 7, 11, 15], 9)\n",
    "    [0, 1]\n",
    "    >>> two_sum([3, 2, 4], 6)\n",
    "    [1, 2]\n",
    "    >>> two_sum([3, 3], 6)\n",
    "    [0, 1]\n",
    "    '''"
   ]
  },
  {
   "cell_type": "code",
   "execution_count": 67,
   "id": "21223f44",
   "metadata": {},
   "outputs": [
    {
     "name": "stdout",
     "output_type": "stream",
     "text": [
      "**********************************************************************\n",
      "File \"__main__\", line 3, in NoName\n",
      "Failed example:\n",
      "    two_sum([2, 7, 11, 15], 9)\n",
      "Expected:\n",
      "    [0, 1]\n",
      "Got nothing\n",
      "**********************************************************************\n",
      "File \"__main__\", line 5, in NoName\n",
      "Failed example:\n",
      "    two_sum([3, 2, 4], 6)\n",
      "Expected:\n",
      "    [1, 2]\n",
      "Got nothing\n",
      "**********************************************************************\n",
      "File \"__main__\", line 7, in NoName\n",
      "Failed example:\n",
      "    two_sum([3, 3], 6)\n",
      "Expected:\n",
      "    [0, 1]\n",
      "Got nothing\n"
     ]
    }
   ],
   "source": [
    "# Test:\n",
    "doctest.run_docstring_examples(two_sum, globals())"
   ]
  },
  {
   "cell_type": "markdown",
   "id": "7e067a36",
   "metadata": {},
   "source": [
    "### Appendix A: Sources\n",
    "- http://composingprograms.com/\n",
    "- https://www.w3schools.com/python/"
   ]
  },
  {
   "cell_type": "markdown",
   "id": "f0156701",
   "metadata": {},
   "source": [
    "### Appendix B: Pedagogy\n",
    "I've been programming for about a decade, and oh boy...  there are a million different ways that people like to explain code. While most UC Berkeley courses focus on how code runs (i.e. compilers, interpreters, etc.), I personally find that focus to be confusing when first learning.\n",
    "\n",
    "With that in mind, this notebook is written from a basis of \"what code does\" rather than \"how code does things\", with the end goal being that you can write a simple python program by the end of the hour."
   ]
  }
 ],
 "metadata": {
  "kernelspec": {
   "display_name": "Python 3 (ipykernel)",
   "language": "python",
   "name": "python3"
  },
  "language_info": {
   "codemirror_mode": {
    "name": "ipython",
    "version": 3
   },
   "file_extension": ".py",
   "mimetype": "text/x-python",
   "name": "python",
   "nbconvert_exporter": "python",
   "pygments_lexer": "ipython3",
   "version": "3.9.10"
  }
 },
 "nbformat": 4,
 "nbformat_minor": 5
}
